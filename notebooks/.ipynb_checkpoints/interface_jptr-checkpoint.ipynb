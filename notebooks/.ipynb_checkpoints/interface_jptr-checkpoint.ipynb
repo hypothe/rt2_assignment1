{
 "cells": [
  {
   "cell_type": "markdown",
   "id": "c4865a1e",
   "metadata": {},
   "source": [
    "# Headers"
   ]
  },
  {
   "cell_type": "code",
   "execution_count": 1,
   "id": "a51e0f2d",
   "metadata": {
    "ExecuteTime": {
     "end_time": "2021-06-10T14:05:00.698490Z",
     "start_time": "2021-06-10T14:04:59.823348Z"
    },
    "hide_input": false
   },
   "outputs": [],
   "source": [
    "%matplotlib widget\n",
    "\n",
    "import matplotlib as mpl\n",
    "import matplotlib.pyplot as plt\n",
    "\n",
    "from matplotlib import animation\n",
    "\n",
    "import ipywidgets as widgets\n",
    "from ipywidgets import Button, GridBox, Layout, ButtonStyle, FloatSlider, HBox, VBox\n",
    "\n",
    "import rospy\n",
    "from geometry_msgs.msg import Twist\n",
    "from nav_msgs.msg import Odometry\n",
    "from rt2_assignment1.msg import SetVel\n",
    "from rt2_assignment1.srv import Command\n",
    "\n",
    "from IPython.display import display\n",
    "\n",
    "import numpy as np\n",
    "\n"
   ]
  },
  {
   "cell_type": "markdown",
   "id": "3e944e48",
   "metadata": {},
   "source": [
    "# Classes"
   ]
  },
  {
   "cell_type": "markdown",
   "id": "383fde78",
   "metadata": {},
   "source": [
    "## LimList\n",
    "\n",
    "A subclass of list, used here to generate queues of fixed maximum size, used to store only the n-most recent data used for plotting (eg. odometry or velocities)."
   ]
  },
  {
   "cell_type": "code",
   "execution_count": 2,
   "id": "d2e1677b",
   "metadata": {
    "ExecuteTime": {
     "end_time": "2021-06-10T14:05:00.709041Z",
     "start_time": "2021-06-10T14:05:00.702737Z"
    }
   },
   "outputs": [],
   "source": [
    "class LimList(list):\n",
    "    \n",
    "    def __init__(self, max_size, l=[]):\n",
    "        super().__init__(l)\n",
    "        self.max_size = max_size\n",
    "       \n",
    "    def append(self, data):\n",
    "        super().append(data)\n",
    "        if super().__len__() > self.max_size:\n",
    "            super().pop(0)"
   ]
  },
  {
   "cell_type": "markdown",
   "id": "7fd627f2",
   "metadata": {},
   "source": [
    "## DirectionPad\n",
    "\n",
    "Class which accounts for the usage of the 4 directional buttons which can be used to directly control the robot.\n",
    "The robot velocity (twist) depends on the values expressed by the sliders (their references are here passed at the init) and the button pressed: to this aim 5 helper functions are present, correlated to the 4 directional buttons plus the stop on. The class is also responsible for publishing those values on `/cmd_vel`, where they are read by the simulation."
   ]
  },
  {
   "cell_type": "code",
   "execution_count": 3,
   "id": "27f234a1",
   "metadata": {
    "ExecuteTime": {
     "end_time": "2021-06-10T14:05:00.728110Z",
     "start_time": "2021-06-10T14:05:00.714999Z"
    }
   },
   "outputs": [],
   "source": [
    "class DirectionPad:\n",
    "    \n",
    "    def __init__(self, lin_slider, ang_slider):\n",
    "        self.pub_vel = rospy.Publisher('/cmd_vel', Twist, queue_size=1)\n",
    "        self.twist = Twist()\n",
    "        self.fwd_m = 0.0\n",
    "        self.ang_m = 0.0\n",
    "        self.lin_slider = lin_slider\n",
    "        self.ang_slider = ang_slider\n",
    "    \n",
    "    def forward(self):\n",
    "        self.fwd_m = 1.0\n",
    "        self.ang_m = 0.0\n",
    "    def backward(self):\n",
    "        self.fwd_m = -1.0\n",
    "        self.ang_m = 0.0\n",
    "    def turnCounter(self):\n",
    "        self.fwd_m = 0.0\n",
    "        self.ang_m = -1.0\n",
    "    def turnClock(self):\n",
    "        self.fwd_m = 0.0\n",
    "        self.ang_m = 1.0\n",
    "    def stop(self):\n",
    "        self.fwd_m = 0.0\n",
    "        self.ang_m = 0.0\n",
    "        \n",
    "    def pubTwist(self):\n",
    "        self.twist.linear.x = self.fwd_m*lin_slider.value\n",
    "        self.twist.angular.z = self.ang_m*ang_slider.value\n",
    "        \n",
    "        self.pub_vel.publish(self.twist)\n",
    "        \n",
    "    "
   ]
  },
  {
   "cell_type": "markdown",
   "id": "11819a8c",
   "metadata": {},
   "source": [
    "# Global parameters\n",
    "\n",
    "The most useful parameters are all declared here, to easily modify them if needed."
   ]
  },
  {
   "cell_type": "code",
   "execution_count": 4,
   "id": "9c11cdbc",
   "metadata": {
    "ExecuteTime": {
     "end_time": "2021-06-10T14:05:00.768680Z",
     "start_time": "2021-06-10T14:05:00.735202Z"
    }
   },
   "outputs": [],
   "source": [
    "output = widgets.Output()\n",
    "\n",
    "vel_msg = SetVel() # The message type used on the topic where maximum velocities values are published\n",
    "\n",
    "# Initial values for the velocities\n",
    "lin_init = 0.6\n",
    "ang_init = 0.6\n",
    "vel_msg.linear = lin_init\n",
    "vel_msg.angular = ang_init\n",
    "\n",
    "# Empty fixed-size queues used to store odometry data\n",
    "rob_odom_max_len_ = 2000\n",
    "rob_odom_x = LimList(rob_odom_max_len_)\n",
    "rob_odom_y = LimList(rob_odom_max_len_)\n",
    "\n",
    "# Fixed-size queues used to store velocities data.\n",
    "# They're here filled with values in order to correctly\n",
    "# print them. This values will be replaced as soon as\n",
    "# real ones arrive.\n",
    "vel_max_len_ = 200\n",
    "vel_x_sim = LimList(vel_max_len_, [lin_init]*vel_max_len_)\n",
    "vel_x_odm = LimList(vel_max_len_, [0]*vel_max_len_)\n",
    "\n",
    "vel_w_sim = LimList(vel_max_len_, [ang_init]*vel_max_len_)\n",
    "vel_w_odm = LimList(vel_max_len_, [0]*vel_max_len_)\n",
    "\n",
    "t = np.linspace(0, 1, vel_max_len_)\n",
    "\n",
    "\n",
    "# States: 0 (stop), 1 (go_to_point), 2 (directionPad)\n",
    "from enum import Enum\n",
    "\n",
    "class Running(Enum):\n",
    "    STOP = 0\n",
    "    GTP  = 1\n",
    "    PAD  = 2\n",
    "    \n",
    "running  = Running.STOP\n",
    "# Publisher on /cmd_vel, client of /user_interface\n",
    "pub_ = None\n",
    "ui_client = None\n"
   ]
  },
  {
   "cell_type": "markdown",
   "id": "371259cf",
   "metadata": {},
   "source": [
    "# Widgets"
   ]
  },
  {
   "cell_type": "markdown",
   "id": "cb1d30bb",
   "metadata": {},
   "source": [
    "## Sliders\n",
    "\n",
    "Used to set the maximum velocities used both by the `go_to_point` node and by the direct control implemented here.\n",
    "As soon as their value changes, it is published on an ad-hoc `/set_vel` topic, which is then read by `go_to_point`."
   ]
  },
  {
   "cell_type": "code",
   "execution_count": 5,
   "id": "218993cf",
   "metadata": {
    "ExecuteTime": {
     "end_time": "2021-06-10T14:05:00.816979Z",
     "start_time": "2021-06-10T14:05:00.772808Z"
    }
   },
   "outputs": [],
   "source": [
    "max_vel_ = 1.6\n",
    "lin_slider = FloatSlider(description='Linear Velocity', value=lin_init, min=0.1, max=max_vel_, step=0.02)\n",
    "ang_slider = FloatSlider(description='Angular Velocity', value=ang_init, min=0.1, max=max_vel_, step=0.02)\n",
    "\n",
    "\n",
    "v1 = VBox([lin_slider, ang_slider])\n",
    "\n",
    "def lin_vel_change(vel):\n",
    "    vel_msg.linear = vel[\"new\"]\n",
    "    pub_.publish(vel_msg)\n",
    "\n",
    "def ang_vel_change(vel):\n",
    "    vel_msg.angular = vel[\"new\"]\n",
    "    pub_.publish(vel_msg)\n",
    "    \n",
    "lin_slider.observe(lin_vel_change, names='value')\n",
    "ang_slider.observe(ang_vel_change, names='value')"
   ]
  },
  {
   "cell_type": "markdown",
   "id": "1dbbdb71",
   "metadata": {},
   "source": [
    "## Buttons"
   ]
  },
  {
   "cell_type": "markdown",
   "id": "12a99d1e",
   "metadata": {},
   "source": [
    "### Directional Buttons\n",
    "\n",
    "All placed in a Gridbox to simulate the keyboard layout.\n",
    ">NOTE: the unicode values in the description represent an 'arrow icon' each."
   ]
  },
  {
   "cell_type": "code",
   "execution_count": 6,
   "id": "ad294546",
   "metadata": {
    "ExecuteTime": {
     "end_time": "2021-06-10T14:05:00.888613Z",
     "start_time": "2021-06-10T14:05:00.822445Z"
    }
   },
   "outputs": [],
   "source": [
    "up_b  = Button(description='\\u2191', #direction='up',\n",
    "                 layout=Layout(width='auto', grid_area='up'),\n",
    "                 style=ButtonStyle(button_color='lightgray'))\n",
    "down_b    = Button(description='\\u2193', #direction='down',\n",
    "                 layout=Layout(width='auto', grid_area='down'),\n",
    "                 style=ButtonStyle(button_color='lightgray'))\n",
    "right_b = Button(description='\\u2192', #direction='right',\n",
    "                 layout=Layout(width='auto', grid_area='right'),\n",
    "                 style=ButtonStyle(button_color='lightgray'))\n",
    "left_b  = Button(description='\\u2190', #direction='left',\n",
    "                 layout=Layout(width='auto', grid_area='left'),\n",
    "                 style=ButtonStyle(button_color='lightgray'))\n",
    "\n",
    "gb = GridBox(children=[up_b, down_b, right_b, left_b],\n",
    "        layout=Layout(\n",
    "            width='100%',\n",
    "            grid_template_rows='auto auto',\n",
    "            grid_template_columns='33% 33% 33%',\n",
    "            grid_template_areas='''\n",
    "            \". up .\"\n",
    "            \"left down right \"\n",
    "            ''')\n",
    "       )"
   ]
  },
  {
   "cell_type": "markdown",
   "id": "760abbe2",
   "metadata": {},
   "source": [
    "### Start&Stop\n",
    "\n",
    "Used to *Start* the `goToPoint` behavior and *Stop* the robot movement.\n",
    "Placed in a HBox to be side by side, then all the Boxes (sliders, directional and start/stop) in another Gridbox for layout purposes."
   ]
  },
  {
   "cell_type": "code",
   "execution_count": 7,
   "id": "e3ddf6ad",
   "metadata": {
    "ExecuteTime": {
     "end_time": "2021-06-10T14:05:00.935227Z",
     "start_time": "2021-06-10T14:05:00.892240Z"
    }
   },
   "outputs": [],
   "source": [
    "start_b  = Button(description='START',\n",
    "                 layout=Layout(width='100%', grid_area='start'),\n",
    "                 style=ButtonStyle(button_color='lightgray'))\n",
    "stop_b  = Button(description='STOP',\n",
    "                 layout=Layout(width='100%', grid_area='stop'),\n",
    "                 style=ButtonStyle(button_color='lightgray'))\n",
    "\n",
    "h1 = HBox([start_b, stop_b])\n",
    "\n",
    "g_all = GridBox(children=[v1, h1, gb],\n",
    "        layout=Layout(\n",
    "            width='100%',\n",
    "            grid_template_rows='auto auto',\n",
    "            grid_template_columns='33% 40% 27%',\n",
    "            grid_template_areas='''\n",
    "            \"v1 . gb\"\n",
    "            \" . h1 . \"\n",
    "            ''')\n",
    "       )"
   ]
  },
  {
   "cell_type": "markdown",
   "id": "6af49f90",
   "metadata": {},
   "source": [
    "# Callbacks\n",
    "\n",
    "Callback for each button, as well as the callback for the Odometry *subscriber*."
   ]
  },
  {
   "cell_type": "code",
   "execution_count": 8,
   "id": "91bb2dea",
   "metadata": {
    "ExecuteTime": {
     "end_time": "2021-06-10T14:05:00.957436Z",
     "start_time": "2021-06-10T14:05:00.942376Z"
    }
   },
   "outputs": [],
   "source": [
    "\n",
    "dir_pad = DirectionPad(lin_slider, ang_slider)\n",
    "    \n",
    "def start_gotopoint(b):\n",
    "    \"\"\"\n",
    "    Start goToPoint behavior.\n",
    "    \n",
    "    Requests the service from\n",
    "    /user_interface to do so.\n",
    "    \n",
    "    Args:\n",
    "        b (Button): the button\n",
    "                    pressed\n",
    "    \"\"\"\n",
    "    \n",
    "    global running\n",
    "    if running != Running.GTP:\n",
    "        ui_client(\"start\")\n",
    "        running = Running.GTP\n",
    "        \n",
    "def stop_motion(b):\n",
    "    \"\"\"\n",
    "    Stop robot movement.\n",
    "    \n",
    "    Requests the service from\n",
    "    /user_interface to do so,\n",
    "    if it's currently in\n",
    "    goToPoint behavior, else\n",
    "    informs the DirectionalPad\n",
    "    instance.\n",
    "    \n",
    "    Args:\n",
    "        b (Button): the button\n",
    "                    pressed\n",
    "    \"\"\"\n",
    "    global running\n",
    "    if running ==  Running.GTP:\n",
    "        ui_client(\"stop\")\n",
    "    elif running == Running.PAD:\n",
    "        dir_pad.stop()\n",
    "        dir_pad.pubTwist()\n",
    "    \n",
    "    running = Running.STOP\n",
    "        \n",
    "        \n",
    "def directionalButton(b):\n",
    "    \"\"\"\n",
    "    Issue direct control.\n",
    "    \n",
    "    If goToPoint was active\n",
    "    stop it. Control is\n",
    "    carried out through the\n",
    "    DirectionalPad interface.\n",
    "    \n",
    "    Args:\n",
    "        b (Button): the button\n",
    "                    pressed\n",
    "    \"\"\"\n",
    "    global running\n",
    "\n",
    "    if running == Running.GTP:\n",
    "        stop_motion(b)\n",
    "        \n",
    "    if b.layout.grid_area == 'up':\n",
    "        dir_pad.forward()\n",
    "    elif b.layout.grid_area == 'down':\n",
    "        dir_pad.backward()\n",
    "    elif b.layout.grid_area == 'left':\n",
    "        dir_pad.turnCounter()\n",
    "    elif b.layout.grid_area == 'right':\n",
    "        dir_pad.turnClock()\n",
    "    else:\n",
    "        return # exit, shouldn't happen normally\n",
    "    \n",
    "    running = Running.PAD\n",
    "    \n",
    "\n",
    "def odomCllbck(msg):\n",
    "    \"\"\"\n",
    "    Odometry callback.\n",
    "    \n",
    "    Publishes the current maximum\n",
    "    velocities on /cmd_vel if the\n",
    "    robot is directly controlled.\n",
    "    The values read from the msg\n",
    "    are stored and later plotted.\n",
    "    \n",
    "    Args:\n",
    "        msg (nav_msgs/Odometry):\n",
    "            the odometry message.\n",
    "    \"\"\"\n",
    "    \n",
    "    global running\n",
    "    \n",
    "    rob_odom_x.append(msg.pose.pose.position.x)\n",
    "    rob_odom_y.append(msg.pose.pose.position.y)\n",
    "    \n",
    "    vel_x_sim.append(lin_slider.value)\n",
    "    vel_x_odm.append(msg.twist.twist.linear.x)\n",
    "    \n",
    "    vel_w_sim.append(ang_slider.value)\n",
    "    vel_w_odm.append(msg.twist.twist.angular.z)\n",
    "    \n",
    "    if running == Running.PAD:\n",
    "        dir_pad.pubTwist()"
   ]
  },
  {
   "cell_type": "markdown",
   "id": "0ec038a0",
   "metadata": {},
   "source": [
    "## Buttons callback binding"
   ]
  },
  {
   "cell_type": "code",
   "execution_count": 9,
   "id": "499f946b",
   "metadata": {
    "ExecuteTime": {
     "end_time": "2021-06-10T14:05:00.970536Z",
     "start_time": "2021-06-10T14:05:00.962727Z"
    }
   },
   "outputs": [],
   "source": [
    "start_b.on_click(start_gotopoint)\n",
    "stop_b.on_click(stop_motion)\n",
    "up_b.on_click(directionalButton)\n",
    "down_b.on_click(directionalButton)\n",
    "left_b.on_click(directionalButton)\n",
    "right_b.on_click(directionalButton)\n"
   ]
  },
  {
   "cell_type": "markdown",
   "id": "cc7aec1e",
   "metadata": {},
   "source": [
    "# ROS node start"
   ]
  },
  {
   "cell_type": "code",
   "execution_count": 10,
   "id": "da3d68b6",
   "metadata": {
    "ExecuteTime": {
     "end_time": "2021-06-10T14:05:01.240276Z",
     "start_time": "2021-06-10T14:05:00.975475Z"
    }
   },
   "outputs": [],
   "source": [
    "rospy.init_node(\"jupyter_interface\")\n",
    "\n",
    "\n",
    "pub_ = rospy.Publisher('/set_vel', SetVel, queue_size=10)\n",
    "sub = rospy.Subscriber('/odom', Odometry, odomCllbck)\n",
    "\n",
    "rospy.wait_for_service('/user_interface')\n",
    "ui_client = rospy.ServiceProxy('/user_interface', Command)"
   ]
  },
  {
   "cell_type": "markdown",
   "id": "f1e69463",
   "metadata": {},
   "source": [
    "## Control panel"
   ]
  },
  {
   "cell_type": "code",
   "execution_count": 11,
   "id": "2abce15b",
   "metadata": {
    "ExecuteTime": {
     "end_time": "2021-06-10T14:05:01.289598Z",
     "start_time": "2021-06-10T14:05:01.247231Z"
    },
    "scrolled": true
   },
   "outputs": [
    {
     "data": {
      "application/vnd.jupyter.widget-view+json": {
       "model_id": "f129de4f311846c1a053b281bf176231",
       "version_major": 2,
       "version_minor": 0
      },
      "text/plain": [
       "GridBox(children=(VBox(children=(FloatSlider(value=0.6, description='Linear Velocity', max=1.6, min=0.1, step=…"
      ]
     },
     "metadata": {},
     "output_type": "display_data"
    },
    {
     "data": {
      "application/vnd.jupyter.widget-view+json": {
       "model_id": "f7128600e0014f99916923ad1a13fa7d",
       "version_major": 2,
       "version_minor": 0
      },
      "text/plain": [
       "Output()"
      ]
     },
     "metadata": {},
     "output_type": "display_data"
    }
   ],
   "source": [
    "display(g_all)\n",
    "output"
   ]
  },
  {
   "cell_type": "markdown",
   "id": "0f8572cb",
   "metadata": {},
   "source": [
    "## Action\n",
    "\n",
    "A simple action client could be implemented here, but we are instead going to read the goal results of the go_to_point action directly from the topic. While it's true that such practice should be avoided in the general case, here we are merely interested in tracking the number of goal reached, but instantiated by a different node. A Subscriber to the action/Result topic will thus suffice."
   ]
  },
  {
   "cell_type": "code",
   "execution_count": 17,
   "id": "f3622ea3",
   "metadata": {
    "ExecuteTime": {
     "end_time": "2021-06-10T14:06:51.077101Z",
     "start_time": "2021-06-10T14:06:51.064030Z"
    }
   },
   "outputs": [],
   "source": [
    "from rt2_assignment1.msg import PoseActionResult\n",
    "n_goal = {'succ':0, 'canc':0}\n",
    "\n",
    "def goalCllbck(msg):\n",
    "    global n_goal\n",
    "    if msg.result.reached:\n",
    "        n_goal['succ']+=1\n",
    "    else:\n",
    "        n_goal['canc']+=1\n",
    "\n",
    "\n",
    "sub_g = rospy.Subscriber('/go_to_point/result', PoseActionResult, goalCllbck)\n"
   ]
  },
  {
   "cell_type": "markdown",
   "id": "7223b220",
   "metadata": {},
   "source": [
    "# Plots"
   ]
  },
  {
   "cell_type": "markdown",
   "id": "53e2ad44",
   "metadata": {},
   "source": [
    "## Odometry\n",
    "\n",
    "The graphs shows the robot position evolving during time, as read from `/odom`.\n",
    "The graph is automatically updated thanks to `animation.FuncAnimation`."
   ]
  },
  {
   "cell_type": "code",
   "execution_count": 16,
   "id": "f2ffcc9c",
   "metadata": {
    "ExecuteTime": {
     "end_time": "2021-06-10T14:06:46.808851Z",
     "start_time": "2021-06-10T14:06:46.741141Z"
    }
   },
   "outputs": [
    {
     "data": {
      "application/vnd.jupyter.widget-view+json": {
       "model_id": "1e5384dfe46f442cb8e046c3d8d86a5f",
       "version_major": 2,
       "version_minor": 0
      },
      "text/plain": [
       "Canvas(toolbar=Toolbar(toolitems=[('Home', 'Reset original view', 'home', 'home'), ('Back', 'Back to previous …"
      ]
     },
     "metadata": {},
     "output_type": "display_data"
    }
   ],
   "source": [
    "fig, ax = plt.subplots()\n",
    "\n",
    "ax.set_xlim((-5, 5))\n",
    "ax.set_ylim((-5, 5))\n",
    "\n",
    "odom_plt, = ax.plot([], [], 'r.')\n",
    "ax.set_title(\"Robot odometry position\")\n",
    "ax.set_xlabel(\"X\")\n",
    "ax.set_ylabel(\"Y\")\n",
    "\n",
    "def init():\n",
    "    odom_plt.set_data([], [])\n",
    "    return (odom_plt,)\n",
    "def animate(i):\n",
    "    odom_plt.set_data(rob_odom_x, rob_odom_y)\n",
    "    return (odom_plt,)\n",
    "\n",
    "anim = animation.FuncAnimation(fig, animate, init_func = init, frames=100, interval=20, blit=True)"
   ]
  },
  {
   "cell_type": "markdown",
   "id": "a02b12f8",
   "metadata": {},
   "source": [
    "## Velocities\n",
    "\n",
    "In the graph are compared the current maximum velocities set from the sliders with the current robot velocities as read from `/odom`."
   ]
  },
  {
   "cell_type": "code",
   "execution_count": 14,
   "id": "e4f93655",
   "metadata": {
    "ExecuteTime": {
     "end_time": "2021-06-10T14:05:01.592597Z",
     "start_time": "2021-06-10T14:05:01.478803Z"
    }
   },
   "outputs": [
    {
     "data": {
      "application/vnd.jupyter.widget-view+json": {
       "model_id": "a821ed0e28a44899a2a166c01e18d8a1",
       "version_major": 2,
       "version_minor": 0
      },
      "text/plain": [
       "Canvas(toolbar=Toolbar(toolitems=[('Home', 'Reset original view', 'home', 'home'), ('Back', 'Back to previous …"
      ]
     },
     "metadata": {},
     "output_type": "display_data"
    }
   ],
   "source": [
    "fig_vel, axs = plt.subplots(nrows=2)\n",
    "\n",
    "ax0, ax1 = axs.flatten()\n",
    "ax0.set_title(\"Linear velocity\")\n",
    "ax0.set_ylim(0.0, max_vel_)\n",
    "\n",
    "vel_x_plt_sim, = ax0.plot([], [], 'r', label='max linear velocity')\n",
    "vel_x_plt_odm, = ax0.plot([], [], 'g', label='current linear velocity')\n",
    "\n",
    "ax1.set_title(\"Angular velocity\")\n",
    "ax1.set_ylim(0.0, max_vel_)\n",
    "\n",
    "vel_w_plt_sim, = ax1.plot([], [], 'r', label='max angular velocity')\n",
    "vel_w_plt_odm, = ax1.plot([], [], 'g', label='current angular velocity')\n",
    "\n",
    "\n",
    "def init_vel():\n",
    "    vel_x_plt_sim.set_data([], [])\n",
    "    vel_x_plt_odm.set_data([], [])\n",
    "    \n",
    "    vel_w_plt_sim.set_data([], [])\n",
    "    vel_w_plt_odm.set_data([], [])\n",
    "    return (vel_x_plt_sim, vel_x_plt_odm, vel_w_plt_sim, vel_w_plt_odm)\n",
    "\n",
    "def animate_vel(i):\n",
    "    vel_x_plt_sim.set_data(t, vel_x_sim)\n",
    "    vel_x_plt_odm.set_data(t, vel_x_odm)\n",
    "    \n",
    "    vel_w_plt_sim.set_data(t, vel_w_sim)\n",
    "    vel_w_plt_odm.set_data(t, vel_w_odm)\n",
    "    \n",
    "    return (vel_x_plt_sim, vel_x_plt_odm, vel_w_plt_sim, vel_w_plt_odm)\n",
    "\n",
    "anim_vel = animation.FuncAnimation(fig_vel, animate_vel, init_func = init_vel, frames=100, interval=20, blit=True)\n"
   ]
  },
  {
   "cell_type": "markdown",
   "id": "d5e59d78",
   "metadata": {},
   "source": [
    "## Goal succeeded vs. Goal canceled graph\n",
    "\n",
    "A bar graph, with the successful vs. interrupted goals."
   ]
  },
  {
   "cell_type": "code",
   "execution_count": 18,
   "id": "033363c8",
   "metadata": {
    "ExecuteTime": {
     "end_time": "2021-06-10T14:06:56.642913Z",
     "start_time": "2021-06-10T14:06:56.558543Z"
    }
   },
   "outputs": [
    {
     "data": {
      "application/vnd.jupyter.widget-view+json": {
       "model_id": "22a6eebb61d7414baf91bc75531c7514",
       "version_major": 2,
       "version_minor": 0
      },
      "text/plain": [
       "Canvas(toolbar=Toolbar(toolitems=[('Home', 'Reset original view', 'home', 'home'), ('Back', 'Back to previous …"
      ]
     },
     "metadata": {},
     "output_type": "display_data"
    }
   ],
   "source": [
    "fig_bar, ax_bar = plt.subplots()\n",
    "\n",
    "ax_bar.set_title(\"go_to_point goals\")\n",
    "ax_bar.set_ylim(0, 20)\n",
    "\n",
    "ind = np.array(['Success','Cancel'])\n",
    "\n",
    "bar_plt = ax_bar.bar(ind, [0,0], width=0.3)\n",
    "\n",
    "def init_bar():\n",
    "    for bb, ii, col in zip(bar_plt, n_goal.values(), ('g', 'r')):\n",
    "        bb.set_height(ii)\n",
    "        bb.set_color(col)\n",
    "    return (bar_plt,)\n",
    "\n",
    "def animate_bar(i):\n",
    "    for bb, ii in zip(bar_plt, n_goal.values()):\n",
    "        bb.set_height(ii)\n",
    "    \n",
    "    return (bar_plt,)\n",
    "\n",
    "anim_bar = animation.FuncAnimation(fig_bar, animate_bar, init_func = init_bar, frames=100, interval=20, blit=True)"
   ]
  },
  {
   "cell_type": "code",
   "execution_count": null,
   "id": "d822576b",
   "metadata": {
    "ExecuteTime": {
     "end_time": "2021-06-10T09:53:07.268741Z",
     "start_time": "2021-06-10T09:53:07.259850Z"
    }
   },
   "outputs": [],
   "source": []
  },
  {
   "cell_type": "code",
   "execution_count": null,
   "id": "e3ec7394",
   "metadata": {},
   "outputs": [],
   "source": []
  },
  {
   "cell_type": "code",
   "execution_count": null,
   "id": "e5ba901a",
   "metadata": {},
   "outputs": [],
   "source": []
  }
 ],
 "metadata": {
  "kernelspec": {
   "display_name": "Python 3",
   "language": "python",
   "name": "python3"
  },
  "language_info": {
   "codemirror_mode": {
    "name": "ipython",
    "version": 3
   },
   "file_extension": ".py",
   "mimetype": "text/x-python",
   "name": "python",
   "nbconvert_exporter": "python",
   "pygments_lexer": "ipython3",
   "version": "3.8.5"
  },
  "toc": {
   "base_numbering": 1,
   "nav_menu": {
    "height": "77px",
    "width": "222.4px"
   },
   "number_sections": true,
   "sideBar": true,
   "skip_h1_title": false,
   "title_cell": "Table of Contents",
   "title_sidebar": "Contents",
   "toc_cell": false,
   "toc_position": {},
   "toc_section_display": true,
   "toc_window_display": false
  },
  "varInspector": {
   "cols": {
    "lenName": 16,
    "lenType": 16,
    "lenVar": 40
   },
   "kernels_config": {
    "python": {
     "delete_cmd_postfix": "",
     "delete_cmd_prefix": "del ",
     "library": "var_list.py",
     "varRefreshCmd": "print(var_dic_list())"
    },
    "r": {
     "delete_cmd_postfix": ") ",
     "delete_cmd_prefix": "rm(",
     "library": "var_list.r",
     "varRefreshCmd": "cat(var_dic_list()) "
    }
   },
   "position": {
    "height": "491.45px",
    "left": "1640.8px",
    "right": "20px",
    "top": "116px",
    "width": "575.2px"
   },
   "types_to_exclude": [
    "module",
    "function",
    "builtin_function_or_method",
    "instance",
    "_Feature"
   ],
   "window_display": true
  }
 },
 "nbformat": 4,
 "nbformat_minor": 5
}

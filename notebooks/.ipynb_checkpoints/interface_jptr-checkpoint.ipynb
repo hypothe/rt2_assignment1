{
 "cells": [
  {
   "cell_type": "code",
   "execution_count": 18,
   "id": "a51e0f2d",
   "metadata": {
    "ExecuteTime": {
     "end_time": "2021-06-05T20:01:58.303403Z",
     "start_time": "2021-06-05T20:01:58.188024Z"
    },
    "hide_input": false
   },
   "outputs": [
    {
     "data": {
      "application/vnd.jupyter.widget-view+json": {
       "model_id": "9213ba6f3ba34926a68fa2eb1ab061ba",
       "version_major": 2,
       "version_minor": 0
      },
      "text/plain": [
       "FloatSlider(value=0.6, description='Linear Velocity', max=2.0, min=0.1, step=0.02)"
      ]
     },
     "metadata": {},
     "output_type": "display_data"
    },
    {
     "data": {
      "application/vnd.jupyter.widget-view+json": {
       "model_id": "8cc2c13036114c29b7a27bf31cda6d21",
       "version_major": 2,
       "version_minor": 0
      },
      "text/plain": [
       "FloatSlider(value=0.6, description='Angular Velocity', max=2.0, min=0.1, step=0.02)"
      ]
     },
     "metadata": {},
     "output_type": "display_data"
    },
    {
     "data": {
      "application/vnd.jupyter.widget-view+json": {
       "model_id": "b6168b55687e42bfb7520363ab5b8da0",
       "version_major": 2,
       "version_minor": 0
      },
      "text/plain": [
       "GridBox(children=(Button(description='↑', layout=Layout(grid_area='up', width='auto'), style=ButtonStyle(butto…"
      ]
     },
     "metadata": {},
     "output_type": "display_data"
    },
    {
     "data": {
      "application/vnd.jupyter.widget-view+json": {
       "model_id": "e4e0d3dc16584493af63357d0c838ae5",
       "version_major": 2,
       "version_minor": 0
      },
      "text/plain": [
       "Output()"
      ]
     },
     "metadata": {},
     "output_type": "display_data"
    }
   ],
   "source": [
    "import jupyros as jr\n",
    "import ipywidgets as widgets\n",
    "\n",
    "from ipywidgets import Button, GridBox, Layout, ButtonStyle, FloatSlider\n",
    "\n",
    "import rospy\n",
    "import sys\n",
    "#sys.path.append('/opt')\n",
    "from rt2_assignment1.msg import SetVel\n",
    "\n",
    "from IPython.display import display\n",
    "output = widgets.Output()\n",
    "vel_msg = SetVel()\n",
    "lin_init = 0.6\n",
    "ang_init = 0.6\n",
    "vel_msg.linear = lin_init\n",
    "vel_msg.angular = ang_init\n",
    "\n",
    "\n",
    "pub_ = rospy.Publisher('/set_vel', SetVel, queue_size=10)\n",
    "\n",
    "def lin_vel_change(vel):\n",
    "    vel_msg.linear = vel[\"new\"]\n",
    "    pub_.publish(vel_msg)\n",
    "\n",
    "def ang_vel_change(vel):\n",
    "    vel_msg.angular = vel[\"new\"]\n",
    "    pub_.publish(vel_msg)\n",
    "\n",
    "rospy.init_node(\"jupyter_interface\")\n",
    "\n",
    "\n",
    "lin_slider = FloatSlider(description='Linear Velocity', value=lin_init, min=0.1, max=2, step=0.02)\n",
    "ang_slider = FloatSlider(description='Angular Velocity', value=ang_init, min=0.1, max=2, step=0.02)\n",
    "\n",
    "lin_slider.observe(lin_vel_change, names='value')\n",
    "ang_slider.observe(ang_vel_change, names='value')\n",
    "\n",
    "\n",
    "up  = Button(description='\\u2191',\n",
    "                 layout=Layout(width='auto', grid_area='up'),\n",
    "                 style=ButtonStyle(button_color='lightgray'))\n",
    "down    = Button(description='\\u2193',\n",
    "                 layout=Layout(width='auto', grid_area='down'),\n",
    "                 style=ButtonStyle(button_color='lightgray'))\n",
    "right = Button(description='\\u2192',\n",
    "                 layout=Layout(width='auto', grid_area='right'),\n",
    "                 style=ButtonStyle(button_color='lightgray'))\n",
    "left  = Button(description='\\u2190',\n",
    "                 layout=Layout(width='auto', grid_area='left'),\n",
    "                 style=ButtonStyle(button_color='lightgray'))\n",
    "\n",
    "gb = GridBox(children=[up, down, right, left],\n",
    "        layout=Layout(\n",
    "            width='20%',\n",
    "            grid_template_rows='auto auto',\n",
    "            grid_template_columns='33% 33% 33%',\n",
    "            grid_template_areas='''\n",
    "            \". up .\"\n",
    "            \"left down right \"\n",
    "            ''')\n",
    "       )\n",
    "\n",
    "display(lin_slider, ang_slider, gb)\n",
    "output\n"
   ]
  },
  {
   "cell_type": "code",
   "execution_count": null,
   "id": "ad294546",
   "metadata": {},
   "outputs": [],
   "source": []
  },
  {
   "cell_type": "code",
   "execution_count": null,
   "id": "599b2316",
   "metadata": {},
   "outputs": [],
   "source": []
  }
 ],
 "metadata": {
  "kernelspec": {
   "display_name": "Python 3",
   "language": "python",
   "name": "python3"
  },
  "language_info": {
   "codemirror_mode": {
    "name": "ipython",
    "version": 3
   },
   "file_extension": ".py",
   "mimetype": "text/x-python",
   "name": "python",
   "nbconvert_exporter": "python",
   "pygments_lexer": "ipython3",
   "version": "3.8.5"
  },
  "toc": {
   "base_numbering": 1,
   "nav_menu": {
    "height": "77px",
    "width": "222.4px"
   },
   "number_sections": true,
   "sideBar": true,
   "skip_h1_title": false,
   "title_cell": "Table of Contents",
   "title_sidebar": "Contents",
   "toc_cell": false,
   "toc_position": {},
   "toc_section_display": true,
   "toc_window_display": false
  },
  "varInspector": {
   "cols": {
    "lenName": 16,
    "lenType": 16,
    "lenVar": 40
   },
   "kernels_config": {
    "python": {
     "delete_cmd_postfix": "",
     "delete_cmd_prefix": "del ",
     "library": "var_list.py",
     "varRefreshCmd": "print(var_dic_list())"
    },
    "r": {
     "delete_cmd_postfix": ") ",
     "delete_cmd_prefix": "rm(",
     "library": "var_list.r",
     "varRefreshCmd": "cat(var_dic_list()) "
    }
   },
   "types_to_exclude": [
    "module",
    "function",
    "builtin_function_or_method",
    "instance",
    "_Feature"
   ],
   "window_display": false
  }
 },
 "nbformat": 4,
 "nbformat_minor": 5
}

{
 "cells": [
  {
   "cell_type": "code",
   "execution_count": 1,
   "id": "a51e0f2d",
   "metadata": {
    "ExecuteTime": {
     "end_time": "2021-06-05T23:09:47.241120Z",
     "start_time": "2021-06-05T23:09:46.532303Z"
    },
    "hide_input": false
   },
   "outputs": [],
   "source": [
    "import jupyros as jr\n",
    "import ipywidgets as widgets\n",
    "\n",
    "from ipywidgets import Button, GridBox, Layout, ButtonStyle, FloatSlider, HBox, VBox\n",
    "\n",
    "import rospy\n",
    "from geometry_msgs.msg import Twist\n",
    "from nav_msgs.msg import Odometry\n",
    "from rt2_assignment1.msg import SetVel\n",
    "from rt2_assignment1.srv import Command\n",
    "\n",
    "from IPython.display import display\n",
    "output = widgets.Output()\n",
    "vel_msg = SetVel()\n",
    "lin_init = 0.6\n",
    "ang_init = 0.6\n",
    "vel_msg.linear = lin_init\n",
    "vel_msg.angular = ang_init\n",
    "\n",
    "# States: 0 (stop), 1 (go_to_point), 2 (directionPad)\n",
    "from enum import Enum\n",
    "\n",
    "class Running(Enum):\n",
    "    STOP = 0\n",
    "    GTP  = 1\n",
    "    PAD  = 2\n",
    "    \n",
    "running  = Running.STOP\n",
    "pub_ = None\n",
    "ui_client = None\n",
    "\n"
   ]
  },
  {
   "cell_type": "code",
   "execution_count": 2,
   "id": "f957c607",
   "metadata": {
    "ExecuteTime": {
     "end_time": "2021-06-05T23:09:47.433185Z",
     "start_time": "2021-06-05T23:09:47.422917Z"
    }
   },
   "outputs": [],
   "source": [
    "class DirectionPad:\n",
    "    \n",
    "    def __init__(self, lin_slider, ang_slider):\n",
    "        self.pub_vel = rospy.Publisher('/cmd_vel', Twist, queue_size=1)\n",
    "        self.twist = Twist()\n",
    "        self.fwd_m = 0.0\n",
    "        self.ang_m = 0.0\n",
    "        self.lin_slider = lin_slider\n",
    "        self.ang_slider = ang_slider\n",
    "    \n",
    "    def forward(self):\n",
    "        self.fwd_m = 1.0\n",
    "        self.ang_m = 0.0\n",
    "    def backward(self):\n",
    "        self.fwd_m = -1.0\n",
    "        self.ang_m = 0.0\n",
    "    def turnCounter(self):\n",
    "        self.fwd_m = 0.0\n",
    "        self.ang_m = -1.0\n",
    "    def turnClock(self):\n",
    "        self.fwd_m = 0.0\n",
    "        self.ang_m = 1.0\n",
    "        \n",
    "    def pubTwist(self):\n",
    "        global lin_slider, ang_slider\n",
    "        self.twist.linear.x = self.fwd_m*lin_slider.value\n",
    "        self.twist.angular.z = self.ang_m*ang_slider.value\n",
    "        \n",
    "        self.pub_vel.publish(self.twist)\n",
    "        \n",
    "    def pubStop(self):\n",
    "        self.twist.linear.x = 0\n",
    "        self.twist.angular.z = 0\n",
    "        \n",
    "        self.pub_vel.publish(self.twist)\n",
    "    "
   ]
  },
  {
   "cell_type": "code",
   "execution_count": 3,
   "id": "aa362c85",
   "metadata": {
    "ExecuteTime": {
     "end_time": "2021-06-05T23:09:47.897356Z",
     "start_time": "2021-06-05T23:09:47.843039Z"
    }
   },
   "outputs": [],
   "source": [
    "lin_slider = FloatSlider(description='Linear Velocity', value=lin_init, min=0.1, max=2, step=0.02)\n",
    "ang_slider = FloatSlider(description='Angular Velocity', value=ang_init, min=0.1, max=2, step=0.02)\n",
    "\n",
    "\n",
    "v1 = VBox([lin_slider, ang_slider])"
   ]
  },
  {
   "cell_type": "code",
   "execution_count": 4,
   "id": "88f0be86",
   "metadata": {
    "ExecuteTime": {
     "end_time": "2021-06-05T23:09:48.563702Z",
     "start_time": "2021-06-05T23:09:48.549877Z"
    }
   },
   "outputs": [],
   "source": [
    "dir_pad = DirectionPad(lin_slider, ang_slider)\n",
    "\n",
    "\n",
    "def lin_vel_change(vel):\n",
    "    vel_msg.linear = vel[\"new\"]\n",
    "    pub_.publish(vel_msg)\n",
    "\n",
    "def ang_vel_change(vel):\n",
    "    vel_msg.angular = vel[\"new\"]\n",
    "    pub_.publish(vel_msg)\n",
    "    \n",
    "lin_slider.observe(lin_vel_change, names='value')\n",
    "ang_slider.observe(ang_vel_change, names='value')\n",
    "    \n",
    "def start_gotopoint(b):\n",
    "    global running\n",
    "    if running != Running.GTP:\n",
    "        ui_client(\"start\")\n",
    "        running = Running.GTP\n",
    "        \n",
    "def stop_gotopoint(b):\n",
    "    global running\n",
    "    if running ==  Running.GTP:\n",
    "        ui_client(\"stop\")\n",
    "    elif running == Running.PAD:\n",
    "        dir_pad.pubStop()\n",
    "    running =  Running.STOP\n",
    "        \n",
    "        \n",
    "def directionalButton(b):\n",
    "    global running\n",
    "    if running == Running.GTP:\n",
    "        stop_gotopoint(b)\n",
    "    if b.layout.grid_area == 'up':\n",
    "        dir_pad.forward()\n",
    "    elif b.layout.grid_area == 'down':\n",
    "        dir_pad.backward()\n",
    "    elif b.layout.grid_area == 'left':\n",
    "        dir_pad.turnCounter()\n",
    "    elif b.layout.grid_area == 'right':\n",
    "        dir_pad.turnClock()\n",
    "        \n",
    "    running = Running.PAD\n",
    "    \n",
    "\n",
    "def odomCllbck(msg):\n",
    "    global running\n",
    "    if running == Running.PAD:\n",
    "        dir_pad.pubTwist()"
   ]
  },
  {
   "cell_type": "code",
   "execution_count": 5,
   "id": "a0022fe9",
   "metadata": {
    "ExecuteTime": {
     "end_time": "2021-06-05T23:09:49.305346Z",
     "start_time": "2021-06-05T23:09:49.089991Z"
    }
   },
   "outputs": [],
   "source": [
    "    \n",
    "rospy.init_node(\"jupyter_interface\")\n",
    "\n",
    "\n",
    "pub_ = rospy.Publisher('/set_vel', SetVel, queue_size=10)\n",
    "sub = rospy.Subscriber('/odom', Odometry, odomCllbck)\n",
    "\n",
    "rospy.wait_for_service('/user_interface')\n",
    "ui_client = rospy.ServiceProxy('/user_interface', Command)"
   ]
  },
  {
   "cell_type": "code",
   "execution_count": 6,
   "id": "ad294546",
   "metadata": {
    "ExecuteTime": {
     "end_time": "2021-06-05T23:09:49.886759Z",
     "start_time": "2021-06-05T23:09:49.795859Z"
    }
   },
   "outputs": [],
   "source": [
    "\n",
    "\n",
    "up_b  = Button(description='\\u2191', #direction='up',\n",
    "                 layout=Layout(width='auto', grid_area='up'),\n",
    "                 style=ButtonStyle(button_color='lightgray'))\n",
    "down_b    = Button(description='\\u2193', #direction='down',\n",
    "                 layout=Layout(width='auto', grid_area='down'),\n",
    "                 style=ButtonStyle(button_color='lightgray'))\n",
    "right_b = Button(description='\\u2192', #direction='right',\n",
    "                 layout=Layout(width='auto', grid_area='right'),\n",
    "                 style=ButtonStyle(button_color='lightgray'))\n",
    "left_b  = Button(description='\\u2190', #direction='left',\n",
    "                 layout=Layout(width='auto', grid_area='left'),\n",
    "                 style=ButtonStyle(button_color='lightgray'))\n",
    "\n",
    "gb = GridBox(children=[up_b, down_b, right_b, left_b],\n",
    "        layout=Layout(\n",
    "            width='100%',\n",
    "            grid_template_rows='auto auto',\n",
    "            grid_template_columns='33% 33% 33%',\n",
    "            grid_template_areas='''\n",
    "            \". up .\"\n",
    "            \"left down right \"\n",
    "            ''')\n",
    "       )\n",
    "\n"
   ]
  },
  {
   "cell_type": "code",
   "execution_count": 7,
   "id": "255ee7b6",
   "metadata": {
    "ExecuteTime": {
     "end_time": "2021-06-05T23:09:50.407614Z",
     "start_time": "2021-06-05T23:09:50.362764Z"
    }
   },
   "outputs": [],
   "source": [
    "start_b  = Button(description='START',\n",
    "                 layout=Layout(width='100%', grid_area='start'),\n",
    "                 style=ButtonStyle(button_color='lightgray'))\n",
    "stop_b  = Button(description='STOP',\n",
    "                 layout=Layout(width='100%', grid_area='stop'),\n",
    "                 style=ButtonStyle(button_color='lightgray'))\n",
    "\n",
    "h1 = HBox([start_b, stop_b])\n",
    "\n",
    "g_all = GridBox(children=[v1, h1, gb],\n",
    "        layout=Layout(\n",
    "            width='100%',\n",
    "            grid_template_rows='auto auto',\n",
    "            grid_template_columns='33% 40% 27%',\n",
    "            grid_template_areas='''\n",
    "            \"v1 . gb\"\n",
    "            \" . h1 . \"\n",
    "            ''')\n",
    "       )"
   ]
  },
  {
   "cell_type": "code",
   "execution_count": 8,
   "id": "94214a0f",
   "metadata": {
    "ExecuteTime": {
     "end_time": "2021-06-05T23:09:51.192965Z",
     "start_time": "2021-06-05T23:09:51.188617Z"
    }
   },
   "outputs": [],
   "source": [
    "start_b.on_click(start_gotopoint)\n",
    "stop_b.on_click(stop_gotopoint)\n",
    "up_b.on_click(directionalButton)\n",
    "down_b.on_click(directionalButton)\n",
    "left_b.on_click(directionalButton)\n",
    "right_b.on_click(directionalButton)\n"
   ]
  },
  {
   "cell_type": "code",
   "execution_count": 9,
   "id": "4adc03e2",
   "metadata": {
    "ExecuteTime": {
     "end_time": "2021-06-05T23:09:51.825578Z",
     "start_time": "2021-06-05T23:09:51.787910Z"
    },
    "scrolled": true
   },
   "outputs": [
    {
     "data": {
      "application/vnd.jupyter.widget-view+json": {
       "model_id": "dbef1da41ea244f98e145e14a580c2ff",
       "version_major": 2,
       "version_minor": 0
      },
      "text/plain": [
       "GridBox(children=(VBox(children=(FloatSlider(value=0.6, description='Linear Velocity', max=2.0, min=0.1, step=…"
      ]
     },
     "metadata": {},
     "output_type": "display_data"
    },
    {
     "data": {
      "application/vnd.jupyter.widget-view+json": {
       "model_id": "854f11195e5d44598df2155ee4909fb3",
       "version_major": 2,
       "version_minor": 0
      },
      "text/plain": [
       "Output()"
      ]
     },
     "metadata": {},
     "output_type": "display_data"
    }
   ],
   "source": [
    "display(g_all)\n",
    "output"
   ]
  },
  {
   "cell_type": "code",
   "execution_count": null,
   "id": "01f5a05d",
   "metadata": {
    "ExecuteTime": {
     "end_time": "2021-06-05T23:04:04.218495Z",
     "start_time": "2021-06-05T23:04:04.202481Z"
    }
   },
   "outputs": [],
   "source": [
    "running"
   ]
  },
  {
   "cell_type": "code",
   "execution_count": null,
   "id": "07133344",
   "metadata": {},
   "outputs": [],
   "source": []
  }
 ],
 "metadata": {
  "kernelspec": {
   "display_name": "Python 3",
   "language": "python",
   "name": "python3"
  },
  "language_info": {
   "codemirror_mode": {
    "name": "ipython",
    "version": 3
   },
   "file_extension": ".py",
   "mimetype": "text/x-python",
   "name": "python",
   "nbconvert_exporter": "python",
   "pygments_lexer": "ipython3",
   "version": "3.8.5"
  },
  "toc": {
   "base_numbering": 1,
   "nav_menu": {
    "height": "77px",
    "width": "222.4px"
   },
   "number_sections": true,
   "sideBar": true,
   "skip_h1_title": false,
   "title_cell": "Table of Contents",
   "title_sidebar": "Contents",
   "toc_cell": false,
   "toc_position": {},
   "toc_section_display": true,
   "toc_window_display": false
  },
  "varInspector": {
   "cols": {
    "lenName": 16,
    "lenType": 16,
    "lenVar": 40
   },
   "kernels_config": {
    "python": {
     "delete_cmd_postfix": "",
     "delete_cmd_prefix": "del ",
     "library": "var_list.py",
     "varRefreshCmd": "print(var_dic_list())"
    },
    "r": {
     "delete_cmd_postfix": ") ",
     "delete_cmd_prefix": "rm(",
     "library": "var_list.r",
     "varRefreshCmd": "cat(var_dic_list()) "
    }
   },
   "position": {
    "height": "144.45px",
    "left": "839.8px",
    "right": "20px",
    "top": "119px",
    "width": "350px"
   },
   "types_to_exclude": [
    "module",
    "function",
    "builtin_function_or_method",
    "instance",
    "_Feature"
   ],
   "window_display": false
  }
 },
 "nbformat": 4,
 "nbformat_minor": 5
}
